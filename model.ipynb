{
 "cells": [
  {
   "attachments": {},
   "cell_type": "markdown",
   "metadata": {},
   "source": [
    "### Part 2 of the project: building and pickling the model"
   ]
  },
  {
   "cell_type": "code",
   "execution_count": 35,
   "metadata": {},
   "outputs": [],
   "source": [
    "import numpy as np\n",
    "import pandas as pd\n",
    "from sklearn.pipeline import Pipeline\n",
    "from sklearn.feature_extraction.text import TfidfVectorizer\n",
    "from sklearn.linear_model import LogisticRegression\n",
    "from sklearn.model_selection import train_test_split\n",
    "import pickle"
   ]
  },
  {
   "cell_type": "code",
   "execution_count": 36,
   "metadata": {},
   "outputs": [],
   "source": [
    "lyrics_df = pd.read_csv(\"/data/lyrics.csv\")\n",
    "lyrics = lyrics_df[\"lyrics\"].tolist()"
   ]
  },
  {
   "cell_type": "code",
   "execution_count": null,
   "metadata": {},
   "outputs": [],
   "source": [
    "vectorizer = TfidfVectorizer()\n",
    "y = [\"David Bowie\"] * 100 + [\"Tina Turner\"] * 100\n",
    "X_train, X_test, y_train, y_test = train_test_split(lyrics, y, test_size = 0.2, random_state = 314)\n",
    "\n",
    "m = Pipeline([\n",
    "    (\"vectorizer\", vectorizer),\n",
    "    (\"model\", LogisticRegression())\n",
    "    ])\n",
    "m.fit(X_train, y_train)"
   ]
  },
  {
   "cell_type": "code",
   "execution_count": 38,
   "metadata": {},
   "outputs": [],
   "source": [
    "with open(\"artist_predictor.pkl\", \"wb\") as model_file:\n",
    "\tpickle.dump(m, model_file)"
   ]
  },
  {
   "attachments": {},
   "cell_type": "markdown",
   "metadata": {},
   "source": [
    "## Doing the same but with naive Bayes"
   ]
  },
  {
   "attachments": {},
   "cell_type": "markdown",
   "metadata": {},
   "source": [
    "unsmoothed"
   ]
  },
  {
   "cell_type": "code",
   "execution_count": null,
   "metadata": {},
   "outputs": [],
   "source": [
    "from sklearn.naive_bayes import MultinomialNB\n",
    "\n",
    "mb = Pipeline([\n",
    "    (\"vectorizer\", vectorizer),\n",
    "    (\"model\", MultinomialNB(alpha = 0, force_alpha = True))\n",
    "    ])\n",
    "mb.fit(X_train, y_train)"
   ]
  },
  {
   "cell_type": "code",
   "execution_count": 40,
   "metadata": {},
   "outputs": [],
   "source": [
    "with open(\"artist_predictor_bayes.pkl\", \"wb\") as model_file:\n",
    "\tpickle.dump(mb, model_file)"
   ]
  },
  {
   "attachments": {},
   "cell_type": "markdown",
   "metadata": {},
   "source": [
    "smoothed"
   ]
  },
  {
   "cell_type": "code",
   "execution_count": null,
   "metadata": {},
   "outputs": [],
   "source": [
    "from sklearn.naive_bayes import MultinomialNB\n",
    "\n",
    "mbs = Pipeline([\n",
    "    (\"vectorizer\", vectorizer),\n",
    "    (\"model\", MultinomialNB())\n",
    "    ])\n",
    "mbs.fit(X_train, y_train)"
   ]
  },
  {
   "cell_type": "code",
   "execution_count": 42,
   "metadata": {},
   "outputs": [],
   "source": [
    "with open(\"artist_predictor_bayes_smooth.pkl\", \"wb\") as model_file:\n",
    "\tpickle.dump(mbs, model_file)"
   ]
  },
  {
   "cell_type": "code",
   "execution_count": 45,
   "metadata": {},
   "outputs": [
    {
     "name": "stdout",
     "output_type": "stream",
     "text": [
      "Logistic regression: trained data accuracy: 0.9625\n",
      "Logistic regression: test data accuracy: 0.675\n",
      "Naive Bayes: trained data accuracy: 0.9875\n",
      "Naive Bayes: test data accuracy: 0.725\n",
      "Naive Bayes (smoothed): trained data accuracy: 0.8625\n",
      "Naive Bayes (smoothed): test data accuracy: 0.4\n"
     ]
    }
   ],
   "source": [
    "lr_train = str(m.score(X_train, y_train))\n",
    "lr_test = str(m.score(X_test, y_test))\n",
    "nb_train = str(mb.score(X_train, y_train))\n",
    "nb_test = str(mb.score(X_test, y_test))\n",
    "nbs_train = str(mbs.score(X_train, y_train))\n",
    "nbs_test = str(mbs.score(X_test, y_test))\n",
    "\n",
    "print(\"Logistic regression: trained data accuracy: \" + lr_train)\n",
    "print(\"Logistic regression: test data accuracy: \" + lr_test)\n",
    "print(\"Naive Bayes: trained data accuracy: \" + nb_train)\n",
    "print(\"Naive Bayes: test data accuracy: \" + nb_test)\n",
    "print(\"Naive Bayes (smoothed): trained data accuracy: \" + nbs_train)\n",
    "print(\"Naive Bayes (smoothed): test data accuracy: \" + nbs_test)"
   ]
  }
 ],
 "metadata": {
  "kernelspec": {
   "display_name": "base",
   "language": "python",
   "name": "python3"
  },
  "language_info": {
   "codemirror_mode": {
    "name": "ipython",
    "version": 3
   },
   "file_extension": ".py",
   "mimetype": "text/x-python",
   "name": "python",
   "nbconvert_exporter": "python",
   "pygments_lexer": "ipython3",
   "version": "3.9.13"
  },
  "orig_nbformat": 4
 },
 "nbformat": 4,
 "nbformat_minor": 2
}
